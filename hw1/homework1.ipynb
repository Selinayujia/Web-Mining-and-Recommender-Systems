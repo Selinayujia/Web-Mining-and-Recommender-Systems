{
 "cells": [
  {
   "cell_type": "code",
   "execution_count": 1,
   "id": "d545425e",
   "metadata": {},
   "outputs": [],
   "source": [
    "import json\n",
    "from matplotlib import pyplot as plt\n",
    "from collections import defaultdict\n",
    "from sklearn import linear_model\n",
    "import numpy\n",
    "import random\n",
    "import gzip\n",
    "import math"
   ]
  },
  {
   "cell_type": "code",
   "execution_count": 2,
   "id": "e74ac91e",
   "metadata": {},
   "outputs": [],
   "source": [
    "def assertFloat(x): # Checks that an answer is a float\n",
    "    assert type(float(x)) == float\n",
    "\n",
    "def assertFloatList(items, N):\n",
    "    assert len(items) == N\n",
    "    assert [type(float(x)) for x in items] == [float]*N"
   ]
  },
  {
   "cell_type": "code",
   "execution_count": 3,
   "id": "1a7911bf",
   "metadata": {},
   "outputs": [],
   "source": [
    "f = gzip.open(\"young_adult_10000.json.gz\")\n",
    "dataset = []\n",
    "for l in f:\n",
    "    dataset.append(json.loads(l))"
   ]
  },
  {
   "cell_type": "code",
   "execution_count": 4,
   "id": "85100ed3",
   "metadata": {},
   "outputs": [
    {
     "data": {
      "text/plain": [
       "10000"
      ]
     },
     "execution_count": 4,
     "metadata": {},
     "output_type": "execute_result"
    }
   ],
   "source": [
    "len(dataset)"
   ]
  },
  {
   "cell_type": "code",
   "execution_count": 5,
   "id": "e716aa89",
   "metadata": {},
   "outputs": [],
   "source": [
    "answers = {} # Put your answers to each question in this dictionary"
   ]
  },
  {
   "cell_type": "code",
   "execution_count": 6,
   "id": "cb2c286a",
   "metadata": {},
   "outputs": [
    {
     "data": {
      "text/plain": [
       "{'user_id': '8842281e1d1347389f2ab93d60773d4d',\n",
       " 'book_id': '2767052',\n",
       " 'review_id': '248c011811e945eca861b5c31a549291',\n",
       " 'rating': 5,\n",
       " 'review_text': \"I cracked and finally picked this up. Very enjoyable quick read - couldn't put it down - it was like crack. \\n I'm a bit bothered by the lack of backstory of how Panem and the Hunger Games come about. It is just kind of explained away in a few paragraphs and we are left to accept this very strange world where teenagers are pitted into an arena each year to kill each other? I was expecting it because I've seen Battle Royale, but I would have appreciated knowing more of the backstory of how the world could have come into such a odd state. \\n I suppose what makes a book like this interesting is thinking about the strategy of it all. The players are going to be statistically encouraged to band together because they will last longer that way, but by definition of course any partnership will be broken, and the drama of how that unfolds is always interesting and full of friendships broken and betrayal. Each character approached the game in their own way. Some banded together in larger coalitions, some were loners initially and banded together later. And some were just loners, like Foxface. A lot depended on your survival skill: could you find food and water on your own? Self-dependence is highly valued - and of course our hero was strong there. \\n All in all, a fun read, but I feel kind of dirty for having read it.\",\n",
       " 'date_added': 'Wed Jan 13 13:38:25 -0800 2010',\n",
       " 'date_updated': 'Wed Mar 22 11:46:36 -0700 2017',\n",
       " 'read_at': 'Sun Mar 25 00:00:00 -0700 2012',\n",
       " 'started_at': 'Fri Mar 23 00:00:00 -0700 2012',\n",
       " 'n_votes': 24,\n",
       " 'n_comments': 25}"
      ]
     },
     "execution_count": 6,
     "metadata": {},
     "output_type": "execute_result"
    }
   ],
   "source": [
    "dataset[0]"
   ]
  },
  {
   "cell_type": "code",
   "execution_count": null,
   "id": "2a260695",
   "metadata": {},
   "outputs": [],
   "source": [
    "### Question 1"
   ]
  },
  {
   "cell_type": "code",
   "execution_count": 15,
   "id": "fea5f8f2",
   "metadata": {},
   "outputs": [],
   "source": [
    "def feature(datum):\n",
    "    return [1, datum['review_text'].count('!')]"
   ]
  },
  {
   "cell_type": "code",
   "execution_count": 22,
   "id": "8f00dea9",
   "metadata": {},
   "outputs": [],
   "source": [
    "X = [feature(data) for data in dataset]\n",
    "Y = [data['rating'] for data in dataset ]\n",
    "theta,residuals,rank,s = numpy.linalg.lstsq(X, Y, rcond=None)\n",
    "theta0 = theta[0]\n",
    "theta1 = theta[1]\n",
    "Y_pred = numpy.dot(X,theta)\n",
    "mse = numpy.square(numpy.subtract(Y,Y_pred)).mean()"
   ]
  },
  {
   "cell_type": "code",
   "execution_count": 27,
   "id": "51581a4f",
   "metadata": {},
   "outputs": [
    {
     "name": "stdout",
     "output_type": "stream",
     "text": [
      "[3.688533040831983, 0.07109019019954206, 1.5231747404538287]\n"
     ]
    }
   ],
   "source": [
    "answers['Q1'] = [theta0, theta1, mse]\n",
    "print(answers['Q1'] )"
   ]
  },
  {
   "cell_type": "code",
   "execution_count": 28,
   "id": "525fd954",
   "metadata": {},
   "outputs": [],
   "source": [
    "assertFloatList(answers['Q1'], 3) # Check the format of your answer (three floats)"
   ]
  },
  {
   "cell_type": "code",
   "execution_count": 29,
   "id": "8b84731b",
   "metadata": {},
   "outputs": [],
   "source": [
    "### Question 2"
   ]
  },
  {
   "cell_type": "code",
   "execution_count": 30,
   "id": "982ea2f5",
   "metadata": {},
   "outputs": [],
   "source": [
    "def feature(datum):\n",
    "    return [1, len(datum['review_text']), datum['review_text'].count('!')]\n",
    "    "
   ]
  },
  {
   "cell_type": "code",
   "execution_count": 88,
   "id": "cda70702",
   "metadata": {},
   "outputs": [
    {
     "name": "stdout",
     "output_type": "stream",
     "text": [
      "[ 3.71751281e+00 -4.12150653e-05  7.52759173e-02]\n"
     ]
    }
   ],
   "source": [
    "X = [feature(data) for data in dataset]\n",
    "Y = [data['rating'] for data in dataset ]\n",
    "theta,residuals,rank,s = numpy.linalg.lstsq(X, Y, rcond=None)\n",
    "theta0 = theta[0]\n",
    "theta1 = theta[1]\n",
    "theta2 = theta[2]\n",
    "print(theta)\n",
    "Y_pred = numpy.dot(X,theta)\n",
    "mse = numpy.square(numpy.subtract(Y,Y_pred)).mean()"
   ]
  },
  {
   "cell_type": "code",
   "execution_count": 34,
   "id": "f099afd8",
   "metadata": {},
   "outputs": [
    {
     "name": "stdout",
     "output_type": "stream",
     "text": [
      "[3.7175128077971524, -4.12150652948804e-05, 0.07527591733232641, 1.5214029246165832]\n"
     ]
    }
   ],
   "source": [
    "answers['Q2'] = [theta0, theta1, theta2, mse]"
   ]
  },
  {
   "cell_type": "code",
   "execution_count": 56,
   "id": "31e2f9e8",
   "metadata": {},
   "outputs": [],
   "source": [
    "assertFloatList(answers['Q2'], 4)"
   ]
  },
  {
   "cell_type": "code",
   "execution_count": 57,
   "id": "1147c4f6",
   "metadata": {},
   "outputs": [],
   "source": [
    "### Question 3"
   ]
  },
  {
   "cell_type": "code",
   "execution_count": 66,
   "id": "78ef0f1e",
   "metadata": {},
   "outputs": [],
   "source": [
    "def feature(datum, deg):\n",
    "    return [datum['review_text'].count('!') ** i for i in range(deg+1)]\n",
    "\n",
    "mses = []\n",
    "for i in range(1, 6):\n",
    "    X = [feature(data,i) for data in dataset]\n",
    "    Y = [data['rating'] for data in dataset ]\n",
    "    theta,residuals,rank,s = numpy.linalg.lstsq(X, Y, rcond=None)\n",
    "    Y_pred = numpy.dot(X,theta)\n",
    "    mses.append(numpy.square(numpy.subtract(Y,Y_pred)).mean())\n",
    "    "
   ]
  },
  {
   "cell_type": "code",
   "execution_count": 67,
   "id": "559faac4",
   "metadata": {},
   "outputs": [
    {
     "name": "stdout",
     "output_type": "stream",
     "text": [
      "[1.5231747404538287, 1.5046686106250915, 1.496684551517923, 1.4904477302230692, 1.4896106953961645]\n"
     ]
    }
   ],
   "source": [
    "answers['Q3'] = mses\n",
    "print(answers['Q3'])"
   ]
  },
  {
   "cell_type": "code",
   "execution_count": null,
   "id": "bbb5da71",
   "metadata": {},
   "outputs": [],
   "source": [
    "assertFloatList(answers['Q3'], 5)# List of length 5"
   ]
  },
  {
   "cell_type": "code",
   "execution_count": 92,
   "id": "dcbb8263",
   "metadata": {},
   "outputs": [],
   "source": [
    "### Question 4\n",
    "\n",
    "training_data = dataset[:len(dataset)//2]\n",
    "test_data = dataset[(len(dataset)//2) :]\n"
   ]
  },
  {
   "cell_type": "code",
   "execution_count": 95,
   "id": "ab25dc7d",
   "metadata": {},
   "outputs": [],
   "source": [
    "\n",
    "def feature(datum, deg):\n",
    "    return [datum['review_text'].count('!') ** i for i in range(deg+1)]\n",
    "\n",
    "mses = []\n",
    "for i in range(1, 6):\n",
    "    X_train = [feature(data,i) for data in training_data]\n",
    "    Y_train = [data['rating'] for data in training_data]\n",
    "    \n",
    "    theta,residuals,rank,s = numpy.linalg.lstsq(X_train, Y_train, rcond=None)\n",
    "    \n",
    "    X_test = [feature(data, i) for data in test_data]\n",
    "    Y_test = [data['rating'] for data in test_data]\n",
    "\n",
    "    Y_pred = numpy.dot(X_test,theta)\n",
    "    mses.append(numpy.square(numpy.subtract(Y_test,Y_pred)).mean())"
   ]
  },
  {
   "cell_type": "code",
   "execution_count": 96,
   "id": "fdd505ff",
   "metadata": {},
   "outputs": [
    {
     "name": "stdout",
     "output_type": "stream",
     "text": [
      "[1.5248743859866198, 1.497719925932234, 1.4856632190311203, 1.4767337440079213, 1.480957727307794]\n"
     ]
    }
   ],
   "source": [
    "answers['Q4'] = mses\n",
    "print(answers['Q4'])"
   ]
  },
  {
   "cell_type": "code",
   "execution_count": null,
   "id": "d2954061",
   "metadata": {},
   "outputs": [],
   "source": [
    "assertFloatList(answers['Q4'], 5)"
   ]
  },
  {
   "cell_type": "code",
   "execution_count": 101,
   "id": "2fa286a5",
   "metadata": {},
   "outputs": [],
   "source": [
    "### Question 5"
   ]
  },
  {
   "cell_type": "code",
   "execution_count": 108,
   "id": "81dcc36d",
   "metadata": {},
   "outputs": [],
   "source": [
    "def feature(datum):\n",
    "    return [1]\n",
    "\n",
    "X_train = [feature(data) for data in training_data]\n",
    "Y_train = [data['rating'] for data in training_data]\n",
    "\n",
    "theta,residuals,rank,s = numpy.linalg.lstsq(X_train, Y_train, rcond=None)\n",
    "\n",
    "X_test = [feature(data) for data in test_data]\n",
    "Y_test = [data['rating'] for data in test_data]\n",
    "\n",
    "Y_pred = numpy.dot(X_test,theta)\n",
    "mae = numpy.absolute (numpy.subtract(Y_test,Y_pred)).mean()\n",
    "\n"
   ]
  },
  {
   "cell_type": "code",
   "execution_count": 109,
   "id": "b3a2e9b9",
   "metadata": {},
   "outputs": [
    {
     "name": "stdout",
     "output_type": "stream",
     "text": [
      "0.9787841600000434\n"
     ]
    }
   ],
   "source": [
    "answers['Q5'] = mae\n",
    "print(mae)"
   ]
  },
  {
   "cell_type": "code",
   "execution_count": 107,
   "id": "d71a47ed",
   "metadata": {},
   "outputs": [],
   "source": [
    "assertFloat(answers['Q5'])"
   ]
  },
  {
   "cell_type": "code",
   "execution_count": 256,
   "id": "cf84f30c",
   "metadata": {},
   "outputs": [],
   "source": [
    "### Question 6"
   ]
  },
  {
   "cell_type": "code",
   "execution_count": 257,
   "id": "19b5b795",
   "metadata": {},
   "outputs": [],
   "source": [
    "f = open(\"beer_50000.json\")\n",
    "dataset = []\n",
    "for l in f:\n",
    "    if 'user/gender' in l:\n",
    "        dataset.append(eval(l))"
   ]
  },
  {
   "cell_type": "code",
   "execution_count": 272,
   "id": "299d4fee",
   "metadata": {},
   "outputs": [
    {
     "data": {
      "text/plain": [
       "20403"
      ]
     },
     "execution_count": 272,
     "metadata": {},
     "output_type": "execute_result"
    }
   ],
   "source": [
    "len(dataset)"
   ]
  },
  {
   "cell_type": "code",
   "execution_count": 275,
   "id": "cf95bec0",
   "metadata": {},
   "outputs": [],
   "source": [
    "X = [[1,data['review/text'].count('!')] for data in dataset]\n",
    "Y = [data['user/gender'] == 'Female' for data in dataset]\n",
    "\n",
    "\n",
    "\n",
    "\n"
   ]
  },
  {
   "cell_type": "code",
   "execution_count": 279,
   "id": "e0ce9c0b",
   "metadata": {},
   "outputs": [],
   "source": [
    "mod = linear_model.LogisticRegression(C=1.0)\n",
    "mod.fit(X, Y)\n",
    "\n",
    "Y_pred = mod.predict(X)\n",
    "\n",
    "TP = sum(numpy.logical_and(Y_pred, Y))\n",
    "FP = sum(numpy.logical_and(Y_pred, numpy.logical_not(Y)))\n",
    "TN = sum(numpy.logical_and(numpy.logical_not(Y_pred), numpy.logical_not(Y)))\n",
    "FN = sum(numpy.logical_and(numpy.logical_not(Y_pred), Y))\n",
    "\n",
    "\n",
    "BER = 1 - 0.5*(TP / (TP + FN) + TN / (TN + FP))"
   ]
  },
  {
   "cell_type": "code",
   "execution_count": 280,
   "id": "0c35d20a",
   "metadata": {},
   "outputs": [],
   "source": [
    "answers['Q6'] = [TP, TN, FP, FN, BER]"
   ]
  },
  {
   "cell_type": "code",
   "execution_count": 281,
   "id": "9b18991a",
   "metadata": {},
   "outputs": [
    {
     "name": "stdout",
     "output_type": "stream",
     "text": [
      "[0, 20095, 0, 308, 0.5]\n"
     ]
    }
   ],
   "source": [
    "assertFloatList(answers['Q6'], 5)\n",
    "print(answers['Q6'] )"
   ]
  },
  {
   "cell_type": "code",
   "execution_count": 282,
   "id": "f066f3d5",
   "metadata": {},
   "outputs": [],
   "source": [
    "### Question 7"
   ]
  },
  {
   "cell_type": "code",
   "execution_count": 283,
   "id": "d24c241f",
   "metadata": {},
   "outputs": [],
   "source": [
    "mod = linear_model.LogisticRegression(C=1.0, class_weight = 'balanced')\n",
    "mod.fit(X, Y)\n",
    "\n",
    "Y_pred = mod.predict(X)\n",
    "\n",
    "TP = sum(numpy.logical_and(Y_pred, Y))\n",
    "FP = sum(numpy.logical_and(Y_pred, numpy.logical_not(Y)))\n",
    "TN = sum(numpy.logical_and(numpy.logical_not(Y_pred), numpy.logical_not(Y)))\n",
    "FN = sum(numpy.logical_and(numpy.logical_not(Y_pred), Y))\n",
    "\n",
    "\n",
    "BER = 1 - 0.5*(TP / (TP + FN) + TN / (TN + FP))"
   ]
  },
  {
   "cell_type": "code",
   "execution_count": 284,
   "id": "0622704c",
   "metadata": {},
   "outputs": [
    {
     "name": "stdout",
     "output_type": "stream",
     "text": [
      "[88, 16332, 3763, 220, 0.4507731134255145]\n"
     ]
    }
   ],
   "source": [
    "answers[\"Q7\"] = [TP, TN, FP, FN, BER]\n",
    "print(answers['Q7'])"
   ]
  },
  {
   "cell_type": "code",
   "execution_count": 285,
   "id": "efb03c92",
   "metadata": {},
   "outputs": [],
   "source": [
    "assertFloatList(answers['Q7'], 5)"
   ]
  },
  {
   "cell_type": "code",
   "execution_count": 286,
   "id": "0e622c2b",
   "metadata": {},
   "outputs": [],
   "source": [
    "### Question 8"
   ]
  },
  {
   "cell_type": "code",
   "execution_count": 287,
   "id": "9b6bcea5",
   "metadata": {},
   "outputs": [],
   "source": [
    "scores = mod.decision_function(X_test)\n",
    "scoreslabels = list(zip(scores, Y_test))\n",
    "\n",
    "scoreslabels.sort(reverse = True)\n",
    "sortedlabels = [s[1] for s in scoreslabels]\n",
    "K = [1, 10, 100, 1000, 10000]\n",
    "precisionList = []\n",
    "\n",
    "\n",
    "for k in K:\n",
    "    precisionList.append(sum(sortedlabels[:k]) / k)\n",
    "    \n",
    "    \n"
   ]
  },
  {
   "cell_type": "code",
   "execution_count": 288,
   "id": "764513e1",
   "metadata": {},
   "outputs": [
    {
     "name": "stdout",
     "output_type": "stream",
     "text": [
      "[0.0, 0.0, 0.02, 0.048, 0.0152]\n"
     ]
    }
   ],
   "source": [
    "answers['Q8'] = precisionList\n",
    "print(precisionList)"
   ]
  },
  {
   "cell_type": "code",
   "execution_count": 289,
   "id": "b0d7d87a",
   "metadata": {},
   "outputs": [],
   "source": [
    "assertFloatList(answers['Q8'], 5) #List of five floats"
   ]
  },
  {
   "cell_type": "code",
   "execution_count": 290,
   "id": "d557ab88",
   "metadata": {},
   "outputs": [],
   "source": [
    "f = open(\"answers_hw1.txt\", 'w') # Write your answers to a file\n",
    "f.write(str(answers) + '\\n')\n",
    "f.close()"
   ]
  },
  {
   "cell_type": "code",
   "execution_count": null,
   "id": "63b457fc",
   "metadata": {},
   "outputs": [],
   "source": []
  }
 ],
 "metadata": {
  "kernelspec": {
   "display_name": "Python 3 (ipykernel)",
   "language": "python",
   "name": "python3"
  },
  "language_info": {
   "codemirror_mode": {
    "name": "ipython",
    "version": 3
   },
   "file_extension": ".py",
   "mimetype": "text/x-python",
   "name": "python",
   "nbconvert_exporter": "python",
   "pygments_lexer": "ipython3",
   "version": "3.9.13"
  }
 },
 "nbformat": 4,
 "nbformat_minor": 5
}
